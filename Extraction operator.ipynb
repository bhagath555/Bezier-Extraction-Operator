{
 "cells": [
  {
   "cell_type": "markdown",
   "metadata": {},
   "source": [
    "## Importing required modules.\n",
    "### Numpy modules module required to perform basic matrix operations."
   ]
  },
  {
   "cell_type": "code",
   "execution_count": 5,
   "metadata": {},
   "outputs": [],
   "source": [
    "import numpy as np"
   ]
  },
  {
   "cell_type": "markdown",
   "metadata": {},
   "source": [
    "### Bezier extraction operator."
   ]
  },
  {
   "cell_type": "code",
   "execution_count": 10,
   "metadata": {},
   "outputs": [],
   "source": [
    "def bezier_extraction(knot,p):\n",
    "    \"\"\"\n",
    "    Input: \n",
    "        Knot --> Knot vector\n",
    "        p    --> Degree\n",
    "    \n",
    "    Output:\n",
    "        C  --> 3 dimentional Extraction matrix (numpy array). \n",
    "               Each p+1,p+1 matrix is the local extraction operator.\n",
    "        ne --> number of local extraction matrices.\n",
    "        \n",
    "    Test:\n",
    "        knot = [0,0,0,0.5,1,1,1]\n",
    "        p = 2\n",
    "        [C, ne] = bezierExtraction(knot,p)\n",
    "    \"\"\"\n",
    "\n",
    "\n",
    "    m  = len(knot)-p-1\n",
    "    a  = p+1\n",
    "    b  = a+1\n",
    "    ne = 0\n",
    "    C = []\n",
    "    C.append(np.eye(p+1,p+1))\n",
    "    alphas = {}\n",
    "    #numerator = []\n",
    "    \n",
    "    while b <= m:\n",
    "        C.append(np.eye(p+1,p+1))\n",
    "        i=b\n",
    "        while b <= m and knot[b] == knot[b-1]:\n",
    "            b=b+1\n",
    "            \n",
    "        multiplicity = b-i+1\n",
    "        if multiplicity < p:\n",
    "            numerator = (knot[b-1]-knot[a-1])\n",
    "            for j in range(p,multiplicity,-1):\n",
    "                alphas[j-multiplicity]=numerator/(knot[a+j-1]-knot[a-1])\n",
    "\n",
    "            r=p-multiplicity\n",
    "            for j in range(1,r+1):\n",
    "                save = r-j+1\n",
    "                s = multiplicity + j\n",
    "                for k in range(p+1,s,-1):\n",
    "                    alpha=alphas[k-s]\n",
    "                    C[ne][:,k-1]= alpha*C[ne][:,k-1] + (1-alpha)*C[ne][:,k-2]\n",
    "                if b <= m:\n",
    "                    C[ne+1][save-1:save+j, save-1] = C[ne][p-j:p+1, p]\n",
    "            ne=ne+1\n",
    "            if b <= m:\n",
    "                a=b\n",
    "                b=b+1\n",
    "\n",
    "        elif multiplicity == p:\n",
    "            if b <= m:\n",
    "                ne=ne+1\n",
    "                a=b\n",
    "                b=b+1\n",
    "    return C, ne+1\n"
   ]
  },
  {
   "cell_type": "code",
   "execution_count": 12,
   "metadata": {},
   "outputs": [],
   "source": [
    "knot = [0,0,0,0.5,1,1,1]\n",
    "p=2\n",
    "[C, ne] = bezier_extraction(knot,p)"
   ]
  },
  {
   "cell_type": "markdown",
   "metadata": {},
   "source": [
    "## Number of extraction matrices\n",
    "### ne = 2"
   ]
  },
  {
   "cell_type": "code",
   "execution_count": 18,
   "metadata": {},
   "outputs": [
    {
     "data": {
      "text/plain": [
       "2"
      ]
     },
     "execution_count": 18,
     "metadata": {},
     "output_type": "execute_result"
    }
   ],
   "source": [
    "ne"
   ]
  },
  {
   "cell_type": "markdown",
   "metadata": {},
   "source": [
    "## First local extraction operator\n",
    "$\\textrm{C}[0] = \\begin{bmatrix} 1.0 & 0.0 & 0.0 \\\\ 0.0 & 1.0 & 0.5 \\\\ 0.0 & 0.0 & 0.5 \\\\\\end{bmatrix}$"
   ]
  },
  {
   "cell_type": "code",
   "execution_count": 19,
   "metadata": {},
   "outputs": [
    {
     "data": {
      "text/plain": [
       "array([[1. , 0. , 0. ],\n",
       "       [0. , 1. , 0.5],\n",
       "       [0. , 0. , 0.5]])"
      ]
     },
     "execution_count": 19,
     "metadata": {},
     "output_type": "execute_result"
    }
   ],
   "source": [
    "C[0]"
   ]
  },
  {
   "cell_type": "markdown",
   "metadata": {},
   "source": [
    "# Second Extraction operator\n",
    "$\\textrm{C}[1] = \\begin{bmatrix} 0.5 & 0.0 & 0.0 \\\\ 0.5 & 1.0 & 0.0 \\\\ 0.0 & 0.0 & 1.0 \\end{bmatrix}$"
   ]
  },
  {
   "cell_type": "code",
   "execution_count": 20,
   "metadata": {},
   "outputs": [
    {
     "data": {
      "text/plain": [
       "array([[0.5, 0. , 0. ],\n",
       "       [0.5, 1. , 0. ],\n",
       "       [0. , 0. , 1. ]])"
      ]
     },
     "execution_count": 20,
     "metadata": {},
     "output_type": "execute_result"
    }
   ],
   "source": [
    "C[1]"
   ]
  },
  {
   "cell_type": "code",
   "execution_count": 17,
   "metadata": {},
   "outputs": [
    {
     "data": {
      "text/plain": [
       "2"
      ]
     },
     "execution_count": 17,
     "metadata": {},
     "output_type": "execute_result"
    }
   ],
   "source": []
  },
  {
   "cell_type": "code",
   "execution_count": null,
   "metadata": {},
   "outputs": [],
   "source": []
  }
 ],
 "metadata": {
  "kernelspec": {
   "display_name": "Python 3",
   "language": "python",
   "name": "python3"
  },
  "language_info": {
   "codemirror_mode": {
    "name": "ipython",
    "version": 3
   },
   "file_extension": ".py",
   "mimetype": "text/x-python",
   "name": "python",
   "nbconvert_exporter": "python",
   "pygments_lexer": "ipython3",
   "version": "3.7.6"
  }
 },
 "nbformat": 4,
 "nbformat_minor": 4
}
