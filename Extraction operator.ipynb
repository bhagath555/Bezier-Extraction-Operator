{
 "cells": [
  {
   "cell_type": "markdown",
   "metadata": {},
   "source": [
    "## Importing required modules.\n",
    "### Numpy modules module required to perform basic matrix operations."
   ]
  },
  {
   "cell_type": "code",
   "execution_count": 13,
   "metadata": {},
   "outputs": [],
   "source": [
    "import numpy as np\n",
    "import matplotlib.pyplot as plt # For visualization purpose"
   ]
  },
  {
   "cell_type": "markdown",
   "metadata": {},
   "source": [
    "### Bezier extraction operator."
   ]
  },
  {
   "cell_type": "code",
   "execution_count": 21,
   "metadata": {},
   "outputs": [],
   "source": [
    "def bezier_extraction(knot,p):\n",
    "    \"\"\"\n",
    "    Input: \n",
    "        Knot --> Knot vector\n",
    "        p    --> Degree\n",
    "    \n",
    "    Output:\n",
    "        C  --> 3 dimentional Extraction matrix (numpy array). \n",
    "               Each p+1,p+1 matrix is the local extraction operator.\n",
    "        ne --> number of local extraction matrices.\n",
    "        \n",
    "    Test:\n",
    "        knot = [0,0,0,0.5,1,1,1]\n",
    "        p = 2\n",
    "        [C, ne] = bezierExtraction(knot,p)\n",
    "    \"\"\"\n",
    "\n",
    "\n",
    "    m  = len(knot)-p-1\n",
    "    a  = p+1\n",
    "    b  = a+1\n",
    "    ne = 0\n",
    "    C = []\n",
    "    C.append(np.eye(p+1,p+1))\n",
    "    alphas = {}\n",
    "    #numerator = []\n",
    "    \n",
    "    while b <= m:\n",
    "        C.append(np.eye(p+1,p+1))\n",
    "        i=b\n",
    "        while b <= m and knot[b] == knot[b-1]:\n",
    "            b=b+1\n",
    "            \n",
    "        multiplicity = b-i+1\n",
    "        if multiplicity < p:\n",
    "            numerator = (knot[b-1]-knot[a-1])\n",
    "            for j in range(p,multiplicity,-1):\n",
    "                alphas[j-multiplicity]=numerator/(knot[a+j-1]-knot[a-1])\n",
    "\n",
    "            r=p-multiplicity\n",
    "            for j in range(1,r+1):\n",
    "                save = r-j+1\n",
    "                s = multiplicity + j\n",
    "                for k in range(p+1,s,-1):\n",
    "                    alpha=alphas[k-s]\n",
    "                    C[ne][:,k-1]= alpha*C[ne][:,k-1] + (1-alpha)*C[ne][:,k-2]\n",
    "                if b <= m:\n",
    "                    C[ne+1][save-1:save+j, save-1] = C[ne][p-j:p+1, p]\n",
    "            ne=ne+1\n",
    "            if b <= m:\n",
    "                a=b\n",
    "                b=b+1\n",
    "\n",
    "        elif multiplicity == p:\n",
    "            if b <= m:\n",
    "                ne=ne+1\n",
    "                a=b\n",
    "                b=b+1\n",
    "    return C, ne+1\n"
   ]
  },
  {
   "cell_type": "code",
   "execution_count": 3,
   "metadata": {},
   "outputs": [],
   "source": [
    "knot = [0,0,0,0,0.5,1,1,1,1]\n",
    "p=3\n",
    "[C, ne] = bezier_extraction(knot,p)"
   ]
  },
  {
   "cell_type": "markdown",
   "metadata": {},
   "source": [
    "## Number of extraction matrices\n",
    "### ne = 2"
   ]
  },
  {
   "cell_type": "code",
   "execution_count": 4,
   "metadata": {},
   "outputs": [
    {
     "data": {
      "text/plain": [
       "2"
      ]
     },
     "execution_count": 4,
     "metadata": {},
     "output_type": "execute_result"
    }
   ],
   "source": [
    "ne"
   ]
  },
  {
   "cell_type": "markdown",
   "metadata": {},
   "source": [
    "## First local extraction operator\n",
    "$\\textrm{C}[0] = \\begin{bmatrix} 1.0 & 0.0 & 0.0 \\\\ 0.0 & 1.0 & 0.5 \\\\ 0.0 & 0.0 & 0.5 \\\\\\end{bmatrix}$"
   ]
  },
  {
   "cell_type": "code",
   "execution_count": 5,
   "metadata": {},
   "outputs": [
    {
     "data": {
      "text/plain": [
       "array([[1.  , 0.  , 0.  , 0.  ],\n",
       "       [0.  , 1.  , 0.5 , 0.25],\n",
       "       [0.  , 0.  , 0.5 , 0.5 ],\n",
       "       [0.  , 0.  , 0.  , 0.25]])"
      ]
     },
     "execution_count": 5,
     "metadata": {},
     "output_type": "execute_result"
    }
   ],
   "source": [
    "C[0]"
   ]
  },
  {
   "cell_type": "markdown",
   "metadata": {},
   "source": [
    "# Second Extraction operator\n",
    "$\\textrm{C}[1] = \\begin{bmatrix} 0.5 & 0.0 & 0.0 \\\\ 0.5 & 1.0 & 0.0 \\\\ 0.0 & 0.0 & 1.0 \\end{bmatrix}$"
   ]
  },
  {
   "cell_type": "code",
   "execution_count": 6,
   "metadata": {},
   "outputs": [
    {
     "data": {
      "text/plain": [
       "array([[0.25, 0.  , 0.  , 0.  ],\n",
       "       [0.5 , 0.5 , 0.  , 0.  ],\n",
       "       [0.25, 0.5 , 1.  , 0.  ],\n",
       "       [0.  , 0.  , 0.  , 1.  ]])"
      ]
     },
     "execution_count": 6,
     "metadata": {},
     "output_type": "execute_result"
    }
   ],
   "source": [
    "C[1]"
   ]
  },
  {
   "cell_type": "code",
   "execution_count": 3,
   "metadata": {},
   "outputs": [],
   "source": []
  },
  {
   "cell_type": "code",
   "execution_count": 4,
   "metadata": {},
   "outputs": [],
   "source": [
    "def bezier(i,n, xi):\n",
    "    \"\"\"\n",
    "    This function returns the value of i^{th} Bezier basis function of degree n, \n",
    "    at parametric value xi.\n",
    "    \n",
    "    Inputs:\n",
    "        i : Basis function index.\n",
    "        n : Degree of the curve.\n",
    "        xi : Parametric value.\n",
    "        \n",
    "    Output:\n",
    "        nth degree, i^{th} Bezier basis function value at xi. \n",
    "    \n",
    "    \"\"\"\n",
    "    if i==1 and n==0:\n",
    "        return 1\n",
    "    elif n==0 and i!=1:\n",
    "        return 0\n",
    "    else:\n",
    "        if i<1 or i>n+2:\n",
    "            return 0\n",
    "        else:\n",
    "            return xi*bezier(i-1,n-1, xi) + (1-xi)*bezier(i,n-1, xi)"
   ]
  },
  {
   "cell_type": "code",
   "execution_count": 48,
   "metadata": {},
   "outputs": [],
   "source": [
    "def bezierbasis(n,xi):\n",
    "    \"\"\"\n",
    "    Returns all the Bezier basis functions of degree n\n",
    "    in the parametric range 0 to 1.\n",
    "    Input:\n",
    "        n : Degree of Bezier curve.\n",
    "    Output:\n",
    "        List of all the basis functions.\n",
    "    \"\"\"\n",
    "    \n",
    "    if n<0:\n",
    "        b = 0\n",
    "    else:\n",
    "        b = []\n",
    "        for i in range(1,n+2):\n",
    "            b.append(bezier(i,n,xi))\n",
    "    return b"
   ]
  },
  {
   "cell_type": "code",
   "execution_count": 63,
   "metadata": {},
   "outputs": [
    {
     "data": {
      "text/plain": [
       "array([0. , 1. , 0.5])"
      ]
     },
     "execution_count": 63,
     "metadata": {},
     "output_type": "execute_result"
    }
   ],
   "source": [
    "b = bezierbasis(2,1)\n",
    "b = np.array(b)\n",
    "B[0][1,:]"
   ]
  },
  {
   "cell_type": "markdown",
   "metadata": {},
   "source": [
    "# Converting Bezier basis functions into B-spline basis functions using Extraction operator."
   ]
  },
  {
   "cell_type": "code",
   "execution_count": 36,
   "metadata": {},
   "outputs": [
    {
     "data": {
      "text/plain": [
       "[array([[1. , 0. , 0. ],\n",
       "        [0. , 1. , 0.5],\n",
       "        [0. , 0. , 0.5]]),\n",
       " array([[0.5       , 0.        , 0.        ],\n",
       "        [0.5       , 1.        , 0.50746269],\n",
       "        [0.        , 0.        , 0.49253731]]),\n",
       " array([[0.50746269, 0.        , 0.        ],\n",
       "        [0.49253731, 1.        , 0.        ],\n",
       "        [0.        , 0.        , 1.        ]])]"
      ]
     },
     "execution_count": 36,
     "metadata": {},
     "output_type": "execute_result"
    }
   ],
   "source": [
    "\n",
    "B, nel = bezier_extraction(Kvector,p)\n",
    "B"
   ]
  },
  {
   "cell_type": "code",
   "execution_count": 39,
   "metadata": {},
   "outputs": [
    {
     "data": {
      "text/plain": [
       "array([[1. , 0. , 0. ],\n",
       "       [0. , 1. , 0.5],\n",
       "       [0. , 0. , 0.5]])"
      ]
     },
     "execution_count": 39,
     "metadata": {},
     "output_type": "execute_result"
    }
   ],
   "source": [
    "B[0]"
   ]
  },
  {
   "cell_type": "code",
   "execution_count": 69,
   "metadata": {},
   "outputs": [],
   "source": [
    "def bezier_bspline(p, Kvector):\n",
    "    B, nel = bezier_extraction(Kvector,p)\n",
    "    B_spline = []\n",
    "    for i in range(0,nel):\n",
    "        b_tt = []\n",
    "        for j in range(0, p+1):\n",
    "            b_t = []\n",
    "            for xi in range(0,100):\n",
    "                b = bezierbasis(p,xi/100);\n",
    "                b = np.array(b);\n",
    "                b_t.append(np.dot(b,B[i][j,:]))\n",
    "            b_tt.append(b_t)\n",
    "        B_spline.append(b_tt)\n",
    "    return B_spline\n"
   ]
  },
  {
   "cell_type": "code",
   "execution_count": 70,
   "metadata": {},
   "outputs": [],
   "source": [
    "p = 2\n",
    "Kvector = [0,0,0,0.33,0.66,1,1,1]\n",
    "N = bezier_bspline(p, Kvector)"
   ]
  },
  {
   "cell_type": "code",
   "execution_count": 73,
   "metadata": {},
   "outputs": [
    {
     "data": {
      "text/plain": [
       "[<matplotlib.lines.Line2D at 0x17ef828dbc8>]"
      ]
     },
     "execution_count": 73,
     "metadata": {},
     "output_type": "execute_result"
    },
    {
     "data": {
      "image/png": "[encoded data removed]",
      "text/plain": [
       "<Figure size 432x288 with 1 Axes>"
      ]
     },
     "metadata": {
      "needs_background": "light"
     },
     "output_type": "display_data"
    }
   ],
   "source": [
    "plt.plot(x,N[0][0])"
   ]
  },
  {
   "cell_type": "code",
   "execution_count": null,
   "metadata": {},
   "outputs": [],
   "source": []
  }
 ],
 "metadata": {
  "kernelspec": {
   "display_name": "Python 3",
   "language": "python",
   "name": "python3"
  },
  "language_info": {
   "codemirror_mode": {
    "name": "ipython",
    "version": 3
   },
   "file_extension": ".py",
   "mimetype": "text/x-python",
   "name": "python",
   "nbconvert_exporter": "python",
   "pygments_lexer": "ipython3",
   "version": "3.7.6"
  }
 },
 "nbformat": 4,
 "nbformat_minor": 4
}
